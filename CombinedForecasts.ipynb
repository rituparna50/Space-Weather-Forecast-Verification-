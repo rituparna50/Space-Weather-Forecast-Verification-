{
 "cells": [
  {
   "cell_type": "code",
   "execution_count": null,
   "metadata": {},
   "outputs": [],
   "source": [
    "# Extracting all 3 day forecasts in one spreadhseet"
   ]
  },
  {
   "cell_type": "code",
   "execution_count": 1,
   "metadata": {},
   "outputs": [],
   "source": [
    "import os\n",
    "import pandas as pd"
   ]
  },
  {
   "cell_type": "code",
   "execution_count": 2,
   "metadata": {},
   "outputs": [],
   "source": [
    "#the base directory where all years exist\n",
    "base_dir = \"/media/faraday/DATA/solar/F10.7/forecasts/NOAA/3DF\""
   ]
  },
  {
   "cell_type": "code",
   "execution_count": 14,
   "metadata": {},
   "outputs": [],
   "source": [
    "#initialise a list to store all NOAA 3 day forecast/predicted values from 1996 to 2024\n",
    "forecast_values = []"
   ]
  },
  {
   "cell_type": "code",
   "execution_count": 17,
   "metadata": {},
   "outputs": [
    {
     "name": "stdout",
     "output_type": "stream",
     "text": [
      "  Forecast F10.7\n",
      "0         JUL-06\n",
      "1            JUL\n",
      "2    154/152/150\n",
      "3             04\n",
      "4         JUL-06\n"
     ]
    }
   ],
   "source": [
    "# Define a function that extracts forecast 3 day values from a file's content\n",
    "def extract_forecast_values(file_content):\n",
    "    #Iterate over each line in the file\n",
    "    \n",
    "    for line in file_content.splitlines():\n",
    "        #check if the line contains a \"PREDICTED\" word\n",
    "        if 'PREDICTED' in line:\n",
    "        \n",
    "            # Split the line into words\n",
    "            words = line.split()\n",
    "        \n",
    "            # Adapt this index slicing as per the actual content format.\n",
    "            values = words[2:]  # This might change based on the actual file format.\n",
    "        \n",
    "            #Append the extracted values to the list \n",
    "            forecast_values.extend(values)\n",
    "        \n",
    "#Walk through the directory structure \n",
    "for root, dirs, files in os.walk(base_dir):\n",
    "    \n",
    "    #Loop through each file int he directory\n",
    "    for file_name in files:\n",
    "        \n",
    "        #Check if the file has a .txt extension\n",
    "        if file_name.endswith('.txt'):\n",
    "        \n",
    "            #Construct the full file path \n",
    "            file_path = os.path.join(root, file_name)\n",
    "        \n",
    "            #Open and read the file content \n",
    "            with open(file_path,'r')as file:\n",
    "                content=file.read()\n",
    "        \n",
    "            #Extract the forecast values from the file content \n",
    "            extract_forecast_values(content)\n",
    "        \n",
    "        \n",
    "\n",
    "# Create a dataframe from the list of extracted forecast values \n",
    "df = pd.DataFrame(forecast_values, columns=['Forecast F10.7'])\n",
    "\n",
    "#Specify the path where this full list will be saved \n",
    "output_csv_path = \"/media/faraday/DATA/solar/F10.7/forecasts/NOAA/3DF/CombinedForecasts.csv\"\n",
    "\n",
    "#Save the dataframe to an actual csv file \n",
    "df.to_csv(output_csv_path, index=False)\n",
    "\n",
    "\n",
    "# This line is only for the sample code and would display the first few rows.\n",
    "print(df.head())\n",
    "        "
   ]
  },
  {
   "cell_type": "code",
   "execution_count": null,
   "metadata": {},
   "outputs": [],
   "source": []
  }
 ],
 "metadata": {
  "kernelspec": {
   "display_name": "Python 3",
   "language": "python",
   "name": "python3"
  },
  "language_info": {
   "codemirror_mode": {
    "name": "ipython",
    "version": 3
   },
   "file_extension": ".py",
   "mimetype": "text/x-python",
   "name": "python",
   "nbconvert_exporter": "python",
   "pygments_lexer": "ipython3",
   "version": "3.8.10"
  }
 },
 "nbformat": 4,
 "nbformat_minor": 4
}
